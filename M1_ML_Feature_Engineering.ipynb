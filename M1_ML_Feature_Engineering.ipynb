{
 "cells": [
  {
   "cell_type": "markdown",
   "id": "b2c40369",
   "metadata": {},
   "source": [
    "**Q1: What is a parameter?**"
   ]
  },
  {
   "cell_type": "markdown",
   "id": "4ab4e6f2",
   "metadata": {},
   "source": [
    "A parameter is a variable in a model that is estimated from data. In machine learning, parameters are internal variables whose values are estimated from the training data."
   ]
  },
  {
   "cell_type": "markdown",
   "id": "aef88560",
   "metadata": {},
   "source": [
    "**Q2: What is correlation?**"
   ]
  },
  {
   "cell_type": "markdown",
   "id": "7c3b99de",
   "metadata": {},
   "source": [
    "Correlation is a statistical measure that expresses the extent to which two variables are linearly related. It ranges from -1 to 1."
   ]
  },
  {
   "cell_type": "markdown",
   "id": "194cbec1",
   "metadata": {},
   "source": [
    "**Q3: What does negative correlation mean?**"
   ]
  },
  {
   "cell_type": "markdown",
   "id": "eb7269b0",
   "metadata": {},
   "source": [
    "Negative correlation means that as one variable increases, the other decreases. The correlation coefficient will be between 0 and -1."
   ]
  },
  {
   "cell_type": "markdown",
   "id": "44d11c9e",
   "metadata": {},
   "source": [
    "**Q4: Define Machine Learning. What are the main components in Machine Learning?**"
   ]
  },
  {
   "cell_type": "markdown",
   "id": "cb6cca81",
   "metadata": {},
   "source": [
    "Machine Learning is a field of AI that uses statistical techniques to give computer systems the ability to learn from data. Components include: Data, Features, Algorithm, Model, Loss function, and Optimizer."
   ]
  },
  {
   "cell_type": "markdown",
   "id": "6f586a10",
   "metadata": {},
   "source": [
    "**Q5: How does loss value help in determining whether the model is good or not?**"
   ]
  },
  {
   "cell_type": "markdown",
   "id": "b0742ac3",
   "metadata": {},
   "source": [
    "The loss value indicates how well the model's predictions match the actual data. A lower loss means better performance."
   ]
  },
  {
   "cell_type": "markdown",
   "id": "901be0a2",
   "metadata": {},
   "source": [
    "**Q6: What are continuous and categorical variables?**"
   ]
  },
  {
   "cell_type": "markdown",
   "id": "19e2def3",
   "metadata": {},
   "source": [
    "Continuous variables can take any numerical value (e.g., height, weight). Categorical variables represent discrete categories (e.g., gender, color)."
   ]
  },
  {
   "cell_type": "markdown",
   "id": "520429a8",
   "metadata": {},
   "source": [
    "**Q7: How do we handle categorical variables in Machine Learning? What are the common techniques?**"
   ]
  },
  {
   "cell_type": "markdown",
   "id": "bb756cc8",
   "metadata": {},
   "source": [
    "Common techniques include Label Encoding and One-Hot Encoding to convert categories into numerical values."
   ]
  },
  {
   "cell_type": "markdown",
   "id": "ef0c8ebb",
   "metadata": {},
   "source": [
    "**Q8: What do you mean by training and testing a dataset?**"
   ]
  },
  {
   "cell_type": "markdown",
   "id": "5fd73d29",
   "metadata": {},
   "source": [
    "Training a dataset means using it to fit the model. Testing is evaluating model performance on unseen data."
   ]
  },
  {
   "cell_type": "markdown",
   "id": "5de2d7f6",
   "metadata": {},
   "source": [
    "**Q9: What is sklearn.preprocessing?**"
   ]
  },
  {
   "cell_type": "markdown",
   "id": "fe8b3ccb",
   "metadata": {},
   "source": [
    "It's a module in scikit-learn for preprocessing data, including scaling, encoding, and imputing missing values."
   ]
  },
  {
   "cell_type": "markdown",
   "id": "3869c5c8",
   "metadata": {},
   "source": [
    "**Q10: What is a Test set?**"
   ]
  },
  {
   "cell_type": "markdown",
   "id": "c0233e33",
   "metadata": {},
   "source": [
    "A test set is a portion of the data used to evaluate the final model performance after training."
   ]
  },
  {
   "cell_type": "markdown",
   "id": "213200f3",
   "metadata": {},
   "source": [
    "**Q11: How do we split data for model fitting (training and testing) in Python?**"
   ]
  },
  {
   "cell_type": "markdown",
   "id": "3235a542",
   "metadata": {},
   "source": [
    "We can use `train_test_split()` from `sklearn.model_selection` to divide the dataset."
   ]
  },
  {
   "cell_type": "markdown",
   "id": "7a86a8c8",
   "metadata": {},
   "source": [
    "**Q12: How do you approach a Machine Learning problem?**"
   ]
  },
  {
   "cell_type": "markdown",
   "id": "fc116eec",
   "metadata": {},
   "source": [
    "Steps include: Define the problem, collect data, preprocess data, EDA, feature engineering, model selection, training, evaluation, and deployment."
   ]
  },
  {
   "cell_type": "markdown",
   "id": "5b5adcf5",
   "metadata": {},
   "source": [
    "**Q13: Why do we have to perform EDA before fitting a model to the data?**"
   ]
  },
  {
   "cell_type": "markdown",
   "id": "2f42b8f1",
   "metadata": {},
   "source": [
    "EDA helps us understand the data structure, detect outliers, and discover patterns that inform model selection and feature engineering."
   ]
  },
  {
   "cell_type": "markdown",
   "id": "236b8155",
   "metadata": {},
   "source": [
    "**Q14: What is correlation?**"
   ]
  },
  {
   "cell_type": "markdown",
   "id": "f2ab2f1c",
   "metadata": {},
   "source": [
    "Correlation measures the strength and direction of a linear relationship between two variables."
   ]
  },
  {
   "cell_type": "markdown",
   "id": "abb01508",
   "metadata": {},
   "source": [
    "**Q15: What does negative correlation mean?**"
   ]
  },
  {
   "cell_type": "markdown",
   "id": "b1b961e0",
   "metadata": {},
   "source": [
    "It indicates that when one variable increases, the other decreases."
   ]
  },
  {
   "cell_type": "markdown",
   "id": "2c735a2c",
   "metadata": {},
   "source": [
    "**Q16: How can you find correlation between variables in Python?**"
   ]
  },
  {
   "cell_type": "markdown",
   "id": "e7236991",
   "metadata": {},
   "source": [
    "Using `df.corr()` function in pandas or `seaborn.heatmap()` for visualization."
   ]
  },
  {
   "cell_type": "markdown",
   "id": "0cc5f964",
   "metadata": {},
   "source": [
    "**Q17: What is causation? Explain difference between correlation and causation with an example.**"
   ]
  },
  {
   "cell_type": "markdown",
   "id": "17f6ae1f",
   "metadata": {},
   "source": [
    "Causation means one variable directly affects another. Correlation does not imply causation. Example: Ice cream sales and drowning deaths may correlate due to summer but one doesn't cause the other."
   ]
  },
  {
   "cell_type": "markdown",
   "id": "3bfc8eac",
   "metadata": {},
   "source": [
    "**Q18: What is an Optimizer? What are different types of optimizers? Explain each with an example.**"
   ]
  },
  {
   "cell_type": "markdown",
   "id": "1563ed96",
   "metadata": {},
   "source": [
    "An optimizer updates model parameters to minimize loss. Examples: SGD (updates using gradient), Adam (adaptive learning rate), RMSProp (divides learning rate by a moving average of recent gradients)."
   ]
  },
  {
   "cell_type": "markdown",
   "id": "bf8e22e5",
   "metadata": {},
   "source": [
    "**Q19: What is sklearn.linear_model?**"
   ]
  },
  {
   "cell_type": "markdown",
   "id": "caa9b32b",
   "metadata": {},
   "source": [
    "It is a module in scikit-learn that provides linear models like LinearRegression, Ridge, Lasso, etc."
   ]
  },
  {
   "cell_type": "markdown",
   "id": "dcab319c",
   "metadata": {},
   "source": [
    "**Q20: What does model.fit() do? What arguments must be given?**"
   ]
  },
  {
   "cell_type": "markdown",
   "id": "b5bf620b",
   "metadata": {},
   "source": [
    "`model.fit()` trains the model on given data. Requires features (X) and labels (y) as arguments."
   ]
  },
  {
   "cell_type": "markdown",
   "id": "410c3494",
   "metadata": {},
   "source": [
    "**Q21: What does model.predict() do? What arguments must be given?**"
   ]
  },
  {
   "cell_type": "markdown",
   "id": "746ad526",
   "metadata": {},
   "source": [
    "`model.predict()` makes predictions using the trained model. Requires input features (X)."
   ]
  },
  {
   "cell_type": "markdown",
   "id": "50a1f77d",
   "metadata": {},
   "source": [
    "**Q22: What are continuous and categorical variables?**"
   ]
  },
  {
   "cell_type": "markdown",
   "id": "7b0f7edd",
   "metadata": {},
   "source": [
    "Same as Q6. Continuous variables are numeric, categorical represent classes."
   ]
  },
  {
   "cell_type": "markdown",
   "id": "dd2c03a4",
   "metadata": {},
   "source": [
    "**Q23: What is feature scaling? How does it help in Machine Learning?**"
   ]
  },
  {
   "cell_type": "markdown",
   "id": "46320126",
   "metadata": {},
   "source": [
    "Feature scaling standardizes input features so they are on a similar scale. This helps improve model convergence and performance."
   ]
  },
  {
   "cell_type": "markdown",
   "id": "9db3ed76",
   "metadata": {},
   "source": [
    "**Q24: How do we perform scaling in Python?**"
   ]
  },
  {
   "cell_type": "markdown",
   "id": "495f7cff",
   "metadata": {},
   "source": [
    "Using `StandardScaler` or `MinMaxScaler` from `sklearn.preprocessing`."
   ]
  },
  {
   "cell_type": "markdown",
   "id": "42481513",
   "metadata": {},
   "source": [
    "**Q25: What is sklearn.preprocessing?**"
   ]
  },
  {
   "cell_type": "markdown",
   "id": "ea4a975a",
   "metadata": {},
   "source": [
    "Same as Q9. A module that provides tools for feature scaling, encoding, and other preprocessing tasks."
   ]
  },
  {
   "cell_type": "markdown",
   "id": "f94df08f",
   "metadata": {},
   "source": [
    "**Q26: How do we split data for model fitting (training and testing) in Python?**"
   ]
  },
  {
   "cell_type": "markdown",
   "id": "6b1bee6f",
   "metadata": {},
   "source": [
    "Same as Q11. Use `train_test_split()` from `sklearn.model_selection`."
   ]
  },
  {
   "cell_type": "markdown",
   "id": "3dbb5b53",
   "metadata": {},
   "source": [
    "**Q27: Explain data encoding?**"
   ]
  },
  {
   "cell_type": "markdown",
   "id": "075cae9e",
   "metadata": {},
   "source": [
    "Data encoding transforms categorical values into numeric values using techniques like Label Encoding and One-Hot Encoding."
   ]
  },
  {
   "cell_type": "markdown",
   "id": "2b115554",
   "metadata": {},
   "source": [
    "# ------------------- Thank You ------------------------"
   ]
  },
  {
   "cell_type": "code",
   "execution_count": null,
   "id": "48dde7b0",
   "metadata": {},
   "outputs": [],
   "source": []
  }
 ],
 "metadata": {
  "kernelspec": {
   "display_name": "Python 3 (ipykernel)",
   "language": "python",
   "name": "python3"
  },
  "language_info": {
   "codemirror_mode": {
    "name": "ipython",
    "version": 3
   },
   "file_extension": ".py",
   "mimetype": "text/x-python",
   "name": "python",
   "nbconvert_exporter": "python",
   "pygments_lexer": "ipython3",
   "version": "3.9.13"
  }
 },
 "nbformat": 4,
 "nbformat_minor": 5
}
